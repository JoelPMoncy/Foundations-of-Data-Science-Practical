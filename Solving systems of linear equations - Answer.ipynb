{
 "cells": [
  {
   "cell_type": "markdown",
   "metadata": {},
   "source": [
    "# Import the relevant libraries"
   ]
  },
  {
   "cell_type": "markdown",
   "metadata": {},
   "source": [
    "#### Visit the NumPy API documentation for Liner Algebra as available by the URL\n",
    "https://numpy.org/doc/stable/reference/routines.linalg.html \n"
   ]
  },
  {
   "cell_type": "code",
   "execution_count": 34,
   "metadata": {},
   "outputs": [],
   "source": [
    "import numpy as np"
   ]
  },
  {
   "cell_type": "markdown",
   "metadata": {},
   "source": [
    "#### Task 1: Write a program to resolve the following system of linear equations based on the calculation of an inverse matrix:\n",
    "#### 2x-y+2x=10\n",
    "#### x-2y+z=8\n",
    "#### 3x-y+2z=11\n"
   ]
  },
  {
   "cell_type": "code",
   "execution_count": 42,
   "metadata": {},
   "outputs": [],
   "source": [
    "#intialise A and B\n",
    "A=np.array([[2,-1,2],[1,-2,1],[3,-1,2]])\n",
    "B=np.array([10,8,11])"
   ]
  },
  {
   "cell_type": "code",
   "execution_count": 43,
   "metadata": {},
   "outputs": [
    {
     "data": {
      "text/plain": [
       "array([[-1.00000000e+00,  0.00000000e+00,  1.00000000e+00],\n",
       "       [ 3.33333333e-01, -6.66666667e-01,  1.11022302e-17],\n",
       "       [ 1.66666667e+00, -3.33333333e-01, -1.00000000e+00]])"
      ]
     },
     "execution_count": 43,
     "metadata": {},
     "output_type": "execute_result"
    }
   ],
   "source": [
    "#use linalg.inv() function to find inverse\n",
    "A_inv = linalg.inv(A)\n",
    "A_inv"
   ]
  },
  {
   "cell_type": "code",
   "execution_count": 45,
   "metadata": {},
   "outputs": [
    {
     "data": {
      "text/plain": [
       "array([ 1., -2.,  3.])"
      ]
     },
     "execution_count": 45,
     "metadata": {},
     "output_type": "execute_result"
    }
   ],
   "source": [
    "# X = A inverse * B\n",
    "# using np.dot() function to find the solution \n",
    "X = np.dot(A_inv,B)\n",
    "X"
   ]
  },
  {
   "cell_type": "markdown",
   "metadata": {},
   "source": [
    "#### Task 2: Use the linalg.solve library and function to solve the system of 3 equations above in an alternative way (no need to calculate the inverse of the coefficients matrix m) "
   ]
  },
  {
   "cell_type": "code",
   "execution_count": 46,
   "metadata": {},
   "outputs": [
    {
     "data": {
      "text/plain": [
       "array([ 1., -2.,  3.])"
      ]
     },
     "execution_count": 46,
     "metadata": {},
     "output_type": "execute_result"
    }
   ],
   "source": [
    "#use linalg.solve() to find solution in one go\n",
    "linalg.solve(A,B)"
   ]
  },
  {
   "cell_type": "markdown",
   "metadata": {},
   "source": [
    "#### Task 3: Use the same linalg.solve library and function to solve a system of 4 equations by adding the following equation to the previous 3 ones. Adjust the previous system of equations in such a way that the problem can be resolved.\n",
    "\n",
    "#### 3x-2y-z+4w=-3"
   ]
  },
  {
   "cell_type": "code",
   "execution_count": 47,
   "metadata": {},
   "outputs": [],
   "source": [
    "#added 0 to end of first three equations since w=0 in those three equations\n",
    "A=np.array([[2,-1,2,0],[1,-2,1,0],[3,-1,2,0],[3,-2,-1,4]])\n",
    "B=B=np.array([10,8,11,-3])"
   ]
  },
  {
   "cell_type": "code",
   "execution_count": 48,
   "metadata": {},
   "outputs": [
    {
     "data": {
      "text/plain": [
       "(array([[ 2, -1,  2,  0],\n",
       "        [ 1, -2,  1,  0],\n",
       "        [ 3, -1,  2,  0],\n",
       "        [ 3, -2, -1,  4]]),\n",
       " array([10,  8, 11, -3]))"
      ]
     },
     "execution_count": 48,
     "metadata": {},
     "output_type": "execute_result"
    }
   ],
   "source": [
    "#displaying array A and B\n",
    "A,B"
   ]
  },
  {
   "cell_type": "code",
   "execution_count": 50,
   "metadata": {},
   "outputs": [
    {
     "data": {
      "text/plain": [
       "array([ 1.  , -2.  ,  3.  , -1.75])"
      ]
     },
     "execution_count": 50,
     "metadata": {},
     "output_type": "execute_result"
    }
   ],
   "source": [
    "#used linalg.solve() to find solution\n",
    "linalg.solve(A,B)"
   ]
  }
 ],
 "metadata": {
  "kernelspec": {
   "display_name": "Python 3 (ipykernel)",
   "language": "python",
   "name": "python3"
  },
  "language_info": {
   "codemirror_mode": {
    "name": "ipython",
    "version": 3
   },
   "file_extension": ".py",
   "mimetype": "text/x-python",
   "name": "python",
   "nbconvert_exporter": "python",
   "pygments_lexer": "ipython3",
   "version": "3.9.13"
  }
 },
 "nbformat": 4,
 "nbformat_minor": 2
}
